{
 "cells": [
  {
   "cell_type": "markdown",
   "metadata": {},
   "source": [
    "Text Files stored disk can be accessed in python\n",
    "\n",
    "File operations:\n",
    "\n",
    "    1. open a File\n",
    "    2. read the contents and display them\n",
    "    3. write to the file (existing content will be over-written)\n",
    "    4. append to an existing file"
   ]
  },
  {
   "cell_type": "code",
   "execution_count": 1,
   "metadata": {},
   "outputs": [],
   "source": [
    "#Open the file in read mode\n",
    "fhand  = open(\"samplefile.txt\")"
   ]
  },
  {
   "cell_type": "code",
   "execution_count": 2,
   "metadata": {},
   "outputs": [
    {
     "name": "stdout",
     "output_type": "stream",
     "text": [
      "Welcome to the course on python\n",
      "\n"
     ]
    }
   ],
   "source": [
    "text1 = fhand.readline()\n",
    "print(text1)\n",
    "fhand.close()"
   ]
  },
  {
   "cell_type": "code",
   "execution_count": 3,
   "metadata": {},
   "outputs": [
    {
     "name": "stdout",
     "output_type": "stream",
     "text": [
      "Welcome to the course on python\n",
      "you are learning how to accesses files in python\n",
      "files in python can be opened in read mode by default\n",
      "it can as well be opened in write and append mode\n"
     ]
    }
   ],
   "source": [
    "fhand = open('samplefile.txt')\n",
    "text = fhand.read()\n",
    "fhand.close()\n",
    "print(text)"
   ]
  },
  {
   "cell_type": "code",
   "execution_count": 4,
   "metadata": {},
   "outputs": [
    {
     "data": {
      "text/plain": [
       "['Welcome to the course on python\\n',\n",
       " 'you are learning how to accesses files in python\\n',\n",
       " 'files in python can be opened in read mode by default\\n',\n",
       " 'it can as well be opened in write and append mode']"
      ]
     },
     "execution_count": 4,
     "metadata": {},
     "output_type": "execute_result"
    }
   ],
   "source": [
    "# Read the entire file with every line as an element of a list\n",
    "fhand = open('samplefile.txt')\n",
    "text = fhand.readlines()\n",
    "fhand.close()\n",
    "text"
   ]
  },
  {
   "cell_type": "code",
   "execution_count": null,
   "metadata": {},
   "outputs": [],
   "source": [
    "#Run a for loop to read line-by line in every iteration\n",
    "#use a with block"
   ]
  },
  {
   "cell_type": "code",
   "execution_count": 5,
   "metadata": {},
   "outputs": [
    {
     "name": "stdout",
     "output_type": "stream",
     "text": [
      "Welcome to the course on python\n",
      "\n",
      "you are learning how to accesses files in python\n",
      "\n",
      "files in python can be opened in read mode by default\n",
      "\n",
      "it can as well be opened in write and append mode\n"
     ]
    }
   ],
   "source": [
    "with open('samplefile.txt') as fhand:\n",
    "    for line in fhand: \n",
    "        print(line)"
   ]
  },
  {
   "cell_type": "code",
   "execution_count": null,
   "metadata": {},
   "outputs": [],
   "source": [
    "#Opening the file for writing. \n",
    "#if file programming.txt exists it overwrites the contents\n",
    "#else it creates a new file and add contents to it"
   ]
  },
  {
   "cell_type": "code",
   "execution_count": 6,
   "metadata": {},
   "outputs": [],
   "source": [
    "filename = 'programming.txt'\n",
    "with open(filename, 'w') as f:\n",
    "    f.write(\"I love programming!\")"
   ]
  },
  {
   "cell_type": "code",
   "execution_count": 7,
   "metadata": {},
   "outputs": [],
   "source": [
    "filename = 'programming.txt'\n",
    "with open(filename, 'w') as f:\n",
    "    f.write(\"I love too much programming!\\n\")\n",
    "    f.write(\"I love creating new games.\\n\")\n",
    "    f.writelines(\"Hi,i am doing good\\nhope the same from you\\nthank you\\n\")"
   ]
  },
  {
   "cell_type": "code",
   "execution_count": null,
   "metadata": {},
   "outputs": [],
   "source": [
    "Opening the file for appending\n",
    "if the file does not exist or is empty, it creates and writes to the file\n",
    "if the file exists and has some contents, it appneds towards the end of the file."
   ]
  },
  {
   "cell_type": "code",
   "execution_count": 8,
   "metadata": {},
   "outputs": [],
   "source": [
    "filename = 'programming.txt'\n",
    "with open(filename, 'a') as f:\n",
    "    f.write(\"I also love working with data.\\n\")\n",
    "    f.write(\"I love making apps as well.\\n\")"
   ]
  },
  {
   "cell_type": "code",
   "execution_count": 9,
   "metadata": {},
   "outputs": [
    {
     "ename": "SyntaxError",
     "evalue": "(unicode error) 'unicodeescape' codec can't decode bytes in position 2-3: truncated \\UXXXXXXXX escape (<ipython-input-9-b69dc5d90738>, line 1)",
     "output_type": "error",
     "traceback": [
      "\u001b[1;36m  File \u001b[1;32m\"<ipython-input-9-b69dc5d90738>\"\u001b[1;36m, line \u001b[1;32m1\u001b[0m\n\u001b[1;33m    filename = 'C:\\Users\\Raghavendra N\\Desktop\\test\\programming1.txt'\u001b[0m\n\u001b[1;37m               ^\u001b[0m\n\u001b[1;31mSyntaxError\u001b[0m\u001b[1;31m:\u001b[0m (unicode error) 'unicodeescape' codec can't decode bytes in position 2-3: truncated \\UXXXXXXXX escape\n"
     ]
    }
   ],
   "source": [
    "filename = 'C:\\Users\\Raghavendra N\\Desktop\\test\\programming1.txt'\n",
    "with open(filename) as fhand:\n",
    "    for line in fhand: \n",
    "        print(line)"
   ]
  },
  {
   "cell_type": "markdown",
   "metadata": {},
   "source": [
    "#### Specifying path in python"
   ]
  },
  {
   "cell_type": "code",
   "execution_count": 10,
   "metadata": {},
   "outputs": [],
   "source": [
    "filename = \"C:\\\\Users\\\\Raghavendra N\\\\Desktop\\\\test\\\\programming1.txt\""
   ]
  },
  {
   "cell_type": "code",
   "execution_count": 12,
   "metadata": {},
   "outputs": [],
   "source": [
    "filename = \"C:/Users/Raghavendra N/Desktop/test/programming1.txt\""
   ]
  },
  {
   "cell_type": "code",
   "execution_count": null,
   "metadata": {},
   "outputs": [],
   "source": [
    "filename = r\"C:\\Users\\Raghavendra N\\Desktop\\test\\programming1.txt\""
   ]
  },
  {
   "cell_type": "code",
   "execution_count": 13,
   "metadata": {},
   "outputs": [
    {
     "name": "stdout",
     "output_type": "stream",
     "text": [
      "I also love working with data.\n",
      "\n",
      "I love making apps as well.\n",
      "\n"
     ]
    }
   ],
   "source": [
    "with open(filename) as fhand:\n",
    "    for line in fhand: \n",
    "        print(line)"
   ]
  }
 ],
 "metadata": {
  "kernelspec": {
   "display_name": "Python 3",
   "language": "python",
   "name": "python3"
  },
  "language_info": {
   "codemirror_mode": {
    "name": "ipython",
    "version": 3
   },
   "file_extension": ".py",
   "mimetype": "text/x-python",
   "name": "python",
   "nbconvert_exporter": "python",
   "pygments_lexer": "ipython3",
   "version": "3.8.5"
  }
 },
 "nbformat": 4,
 "nbformat_minor": 2
}
