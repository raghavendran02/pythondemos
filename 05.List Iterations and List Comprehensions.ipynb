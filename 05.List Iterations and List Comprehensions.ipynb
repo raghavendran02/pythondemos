{
 "cells": [
  {
   "cell_type": "code",
   "execution_count": 1,
   "metadata": {},
   "outputs": [],
   "source": [
    "numList = [2,3,5,7,8,9]"
   ]
  },
  {
   "cell_type": "code",
   "execution_count": 2,
   "metadata": {},
   "outputs": [
    {
     "data": {
      "text/plain": [
       "[4, 9, 25, 49, 64, 81]"
      ]
     },
     "execution_count": 2,
     "metadata": {},
     "output_type": "execute_result"
    }
   ],
   "source": [
    "squareList=[]\n",
    "for num in numList:\n",
    "    squareList.append(num**2)\n",
    "squareList"
   ]
  },
  {
   "cell_type": "code",
   "execution_count": 3,
   "metadata": {},
   "outputs": [
    {
     "name": "stdout",
     "output_type": "stream",
     "text": [
      "[4, 9, 25, 49, 64, 81]\n"
     ]
    }
   ],
   "source": [
    "#[action for var in list filter_condition]\n",
    "squareList = [ num**2 for num in numList]\n",
    "print(squareList)"
   ]
  },
  {
   "cell_type": "code",
   "execution_count": null,
   "metadata": {},
   "outputs": [],
   "source": [
    "#Write a program to multiply every even number of the list\n",
    "# by 2 and odd number by 3"
   ]
  },
  {
   "cell_type": "code",
   "execution_count": 5,
   "metadata": {},
   "outputs": [
    {
     "name": "stdout",
     "output_type": "stream",
     "text": [
      "[33, 24, 39, 28, 45, 36, 40]\n"
     ]
    }
   ],
   "source": [
    "#Write a program to multiply every even number of the list\n",
    "# by 2 and odd number by 3\n",
    "lst = [11,12,13,14,15,18,20]\n",
    "lst1 = []\n",
    "for num in lst:\n",
    "    if num %2==0:\n",
    "        lst1.append(num*2)\n",
    "    else:\n",
    "        lst1.append(num*3)\n",
    "print(lst1)"
   ]
  },
  {
   "cell_type": "code",
   "execution_count": 6,
   "metadata": {},
   "outputs": [
    {
     "name": "stdout",
     "output_type": "stream",
     "text": [
      "[33, 24, 39, 28, 45, 36, 40]\n"
     ]
    }
   ],
   "source": [
    "#[action for elemenet in list]\n",
    "# action : num * 2  if num % 2 == 0 else  num * 3\n",
    "# Action is some operation which is mapped or applied on every element\n",
    "# for loop : for num in lst\n",
    "lst1=[num * 2  if num % 2 == 0 else  num * 3 for num in lst]\n",
    "print(lst1)"
   ]
  },
  {
   "cell_type": "code",
   "execution_count": null,
   "metadata": {},
   "outputs": [],
   "source": [
    "#Write a program to multiply every even number of the list by 2"
   ]
  },
  {
   "cell_type": "code",
   "execution_count": 7,
   "metadata": {},
   "outputs": [
    {
     "name": "stdout",
     "output_type": "stream",
     "text": [
      "[24, 28, 36, 40]\n"
     ]
    }
   ],
   "source": [
    "#Write a program to multiply every even number of the list by 2\n",
    "lst = [11,12,13,14,15,18,20]\n",
    "lst1 = []\n",
    "for num in lst:\n",
    "    if num %2==0:\n",
    "        lst1.append(num*2)\n",
    "print(lst1)"
   ]
  },
  {
   "cell_type": "code",
   "execution_count": null,
   "metadata": {},
   "outputs": [],
   "source": [
    "#apply or action or map : num*2\n",
    "# filter : only even elements num % 2 ==0\n",
    "# [action for number in list filter condition]"
   ]
  },
  {
   "cell_type": "code",
   "execution_count": null,
   "metadata": {},
   "outputs": [],
   "source": [
    "lst1 = [num*2  for num in lst if num % 2 == 0]\n",
    "print(lst1)"
   ]
  },
  {
   "cell_type": "code",
   "execution_count": null,
   "metadata": {},
   "outputs": [],
   "source": [
    "# [ action/map/apply for item in list filter_condition]"
   ]
  },
  {
   "cell_type": "code",
   "execution_count": null,
   "metadata": {},
   "outputs": [],
   "source": [
    "x = [2, 3, 5, 10,15,20]\n",
    "[elem for elem in x if elem % 2 == 0 and elem % 5 ==0]"
   ]
  },
  {
   "cell_type": "code",
   "execution_count": 8,
   "metadata": {},
   "outputs": [
    {
     "data": {
      "text/plain": [
       "[8, 4096]"
      ]
     },
     "execution_count": 8,
     "metadata": {},
     "output_type": "execute_result"
    }
   ],
   "source": [
    "x = [2, 3, 5, 16]\n",
    "[elem**3 for elem in x if elem % 2 == 0]"
   ]
  },
  {
   "cell_type": "code",
   "execution_count": null,
   "metadata": {},
   "outputs": [],
   "source": [
    "# 2. Form a list for all elements divisible by 5 \n",
    "print([ elem for elem in x if elem % 5 ==0])"
   ]
  },
  {
   "cell_type": "code",
   "execution_count": 9,
   "metadata": {},
   "outputs": [],
   "source": [
    "marks = [-1,-5,20,19,18,0,35,45,55,25,22]\n",
    "#1. Obtain a list of marks which are >0\n",
    "#2. Each of these marks are on a scale of 25, compute %'s"
   ]
  },
  {
   "cell_type": "code",
   "execution_count": 12,
   "metadata": {},
   "outputs": [
    {
     "data": {
      "text/plain": [
       "[80.0, 76.0, 72.0, 140.0, 180.0, 220.0, 100.0, 88.0]"
      ]
     },
     "execution_count": 12,
     "metadata": {},
     "output_type": "execute_result"
    }
   ],
   "source": [
    "[round((elem/25)*100,2) for elem in marks if elem>0]"
   ]
  },
  {
   "cell_type": "code",
   "execution_count": 13,
   "metadata": {},
   "outputs": [
    {
     "data": {
      "text/plain": [
       "[8, True, False, 4096]"
      ]
     },
     "execution_count": 13,
     "metadata": {},
     "output_type": "execute_result"
    }
   ],
   "source": [
    "x = [2, 3, 5, 16]\n",
    "[elem**3 if elem % 2 == 0 else elem%3==0 for elem in x ]"
   ]
  },
  {
   "cell_type": "code",
   "execution_count": null,
   "metadata": {},
   "outputs": [],
   "source": []
  },
  {
   "cell_type": "code",
   "execution_count": null,
   "metadata": {},
   "outputs": [],
   "source": []
  },
  {
   "cell_type": "code",
   "execution_count": null,
   "metadata": {},
   "outputs": [],
   "source": []
  }
 ],
 "metadata": {
  "kernelspec": {
   "display_name": "Python 3",
   "language": "python",
   "name": "python3"
  },
  "language_info": {
   "codemirror_mode": {
    "name": "ipython",
    "version": 3
   },
   "file_extension": ".py",
   "mimetype": "text/x-python",
   "name": "python",
   "nbconvert_exporter": "python",
   "pygments_lexer": "ipython3",
   "version": "3.8.5"
  }
 },
 "nbformat": 4,
 "nbformat_minor": 2
}
